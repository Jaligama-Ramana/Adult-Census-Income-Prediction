{
 "cells": [
  {
   "cell_type": "code",
   "execution_count": 1,
   "id": "37695c9a",
   "metadata": {},
   "outputs": [
    {
     "data": {
      "text/plain": [
       "False"
      ]
     },
     "execution_count": 1,
     "metadata": {},
     "output_type": "execute_result"
    }
   ],
   "source": [
    "all([2,4,0,6])"
   ]
  },
  {
   "cell_type": "code",
   "execution_count": 2,
   "id": "975209ca",
   "metadata": {},
   "outputs": [
    {
     "ename": "SyntaxError",
     "evalue": "invalid syntax (387048132.py, line 5)",
     "output_type": "error",
     "traceback": [
      "\u001b[1;36m  Input \u001b[1;32mIn [2]\u001b[1;36m\u001b[0m\n\u001b[1;33m    def_init__(self, Std_firstName, Std_Phn, Std_lastName):\u001b[0m\n\u001b[1;37m                                                           ^\u001b[0m\n\u001b[1;31mSyntaxError\u001b[0m\u001b[1;31m:\u001b[0m invalid syntax\n"
     ]
    }
   ],
   "source": [
    "class Std_Name:\n",
    "\n",
    "\n",
    "\n",
    "    def_init__(self, Std_firstName, Std_Phn, Std_lastName):\n",
    "\n",
    "        self.Std_firstName= Std_firstName\n",
    "\n",
    "        self.Std_PhnStd_Phn = Std_Phn\n",
    "\n",
    "        self.Std_lastNameStd_lastName= Std_lastName\n",
    "\n",
    "Std_firstName = \"Wick\"\n",
    "\n",
    "name= Std_Name(Std_firstName, 'F', \"Bob\")\n",
    "\n",
    "Std_firstName = \"Ann\"\n",
    "\n",
    "name.lastName = \"Nick\"\n",
    "\n",
    "print(name.Std_firstName, name.Std_lastName)"
   ]
  },
  {
   "cell_type": "code",
   "execution_count": 7,
   "id": "76c3a63f",
   "metadata": {},
   "outputs": [
    {
     "name": "stdout",
     "output_type": "stream",
     "text": [
      "33\n"
     ]
    }
   ],
   "source": [
    "print(0xA+0xB+0xC)"
   ]
  },
  {
   "cell_type": "code",
   "execution_count": 8,
   "id": "ff4ec391",
   "metadata": {},
   "outputs": [
    {
     "data": {
      "text/plain": [
       "False"
      ]
     },
     "execution_count": 8,
     "metadata": {},
     "output_type": "execute_result"
    }
   ],
   "source": [
    "5==\"5\""
   ]
  },
  {
   "cell_type": "code",
   "execution_count": null,
   "id": "16768fa2",
   "metadata": {},
   "outputs": [],
   "source": []
  }
 ],
 "metadata": {
  "kernelspec": {
   "display_name": "Python 3 (ipykernel)",
   "language": "python",
   "name": "python3"
  },
  "language_info": {
   "codemirror_mode": {
    "name": "ipython",
    "version": 3
   },
   "file_extension": ".py",
   "mimetype": "text/x-python",
   "name": "python",
   "nbconvert_exporter": "python",
   "pygments_lexer": "ipython3",
   "version": "3.9.12"
  }
 },
 "nbformat": 4,
 "nbformat_minor": 5
}
